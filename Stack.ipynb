{
 "cells": [
  {
   "cell_type": "markdown",
   "metadata": {
    "collapsed": false
   },
   "source": [
    "CS510_CW11_Helen Nengyin & Kaiqin\n",
    "\n",
    "**Question 3.**\n",
    "\n",
    "**iii. How the STACK type is defined and how it works in detail.  Explain in particular the various use of pointers throughout.  Why is STACK itself defined as a pointer to a struct?**\n",
    "\n",
    "Helen:\n",
    "\n",
    "STACK is defined by two variables.  One is the value of each element and the type is int; the other one is the pointer, which is the address that points to its head element.  When it push a new element, it will allocate a new memory, which is STACK type that has an int to store value and a pointer to point to the address of its head element.  When it pop, it will pop from the uppest, then move to its head element, and end until reaching the bottom element. \n",
    "\n",
    "Because STACK store an address. When create a new stack, we get a NULL, but it's a pointer. So when we use push_stack to push data, we just allocate the memory, but store the address.  \n",
    "\n",
    "Kaiqin:\n",
    "\n",
    "In header file *stack.h*, STACK is defined as a pointer to a structure stack.  Struct stack consists of two parts: data and head.  Data is the value in that stack which is an int.  Head is the address of another stack that this stack is pointing to.  STACK is the address that points to such a struct stack.\n",
    "\n",
    "We use STACK \\* in both push_stack() and pop_stack(), because we do want to change the address in pointer s, in order to let s point to a different stack.  If do not use STACK \\* but just STACK, the functions would make a copy of address s, and only change the address in the copy.  Pointer s then is still pointing to the old stack.\n",
    "\n",
    "**iv. Make sure that *test_struct* in the *test/* folder compiles and runs correctly after you are finished implementing STRUCT.**"
   ]
  },
  {
   "cell_type": "code",
   "execution_count": null,
   "metadata": {
    "collapsed": true
   },
   "outputs": [],
   "source": [
    "~/cw-11-redyellow/test$ ./test_stack\n",
    "Putting items on the stack: 1,2,3\n",
    "Popping items off the stack and printing:\n",
    "3\n",
    "2\n",
    "1\n",
    "-1\n",
    "Putting items on the stack: 4,5,6\n",
    "Printing the stack:\n",
    "6       5       4\n",
    "~/cw-11-redyellow/test$  "
   ]
  }
 ],
 "metadata": {
  "kernelspec": {
   "display_name": "Python 2 (SageMath)",
   "language": "python",
   "name": "python2"
  },
  "language_info": {
   "codemirror_mode": {
    "name": "ipython",
    "version": 2
   },
   "file_extension": ".py",
   "mimetype": "text/x-python",
   "name": "python",
   "nbconvert_exporter": "python",
   "pygments_lexer": "ipython2",
   "version": "2.7.10"
  }
 },
 "nbformat": 4,
 "nbformat_minor": 0
}
