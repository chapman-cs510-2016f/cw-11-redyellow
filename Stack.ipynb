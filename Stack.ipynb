{
 "cells": [
  {
   "cell_type": "markdown",
   "metadata": {
    "collapsed": false
   },
   "source": [
    "**how the STACK type is defined and how it works**\n",
    "\n",
    "STACK is defined by two variables, one is the value of each element, which is int, the other is the pointer that point to the the address of its head element.\n",
    "When it push a new element, it will allocate a new memory, which is STACK type have a int to store value and a pointer to point to the address of its head element. When it pop, it will pop the uppest, then moving to the head element, until moving to the bottom element. \n",
    "\n",
    "\n",
    "**Why is STACK itself defined as a pointer to a struct** ( I don't know)\n",
    "\n",
    "Because STACK is always start from the uppest, and each value we found through the head of each STACK untill the last one. So when we find a STACK we just need to know the address of the uppest STACK element, needn't to know the whole STACK. "
   ]
  },
  {
   "cell_type": "code",
   "execution_count": null,
   "metadata": {
    "collapsed": true
   },
   "outputs": [],
   "source": []
  }
 ],
 "metadata": {
  "kernelspec": {
   "display_name": "Python 2 (SageMath)",
   "language": "python",
   "name": "python2"
  },
  "language_info": {
   "codemirror_mode": {
    "name": "ipython",
    "version": 2
   },
   "file_extension": ".py",
   "mimetype": "text/x-python",
   "name": "python",
   "nbconvert_exporter": "python",
   "pygments_lexer": "ipython2",
   "version": "2.7.10"
  }
 },
 "nbformat": 4,
 "nbformat_minor": 0
}
