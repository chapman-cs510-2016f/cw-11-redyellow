{
 "cells": [
  {
   "cell_type": "markdown",
   "metadata": {
    "collapsed": false
   },
   "source": [
    "CS510_CW11_Helen Nengyin & Kaiqin\n",
    "\n",
    "**Question 2.**\n",
    "\n",
    "**i. How the MATRIX type is defined and how it works in detail.**\n",
    "\n",
    "MATRIX is defined as a structure named matrix in header file *matrix.h*.  It includes the numbers of rows and columns and both are MINDEXs (unsigned int).  It also includes a MVALUE (long double) pointer mat, which points to the array of elements in the matrix.\n",
    "\n",
    "**Explain in particular the difference between \"row-major ordering\" and \"column-major ordering\" for multidimensional arrays, and which is the default in C.**\n",
    "\n",
    "Row-major ordering means that the memory is arranged with each **row** being contiguous and **columns** spread out in memory.  Specifically, the array would look like [row_1[ ], row_2[ ], ..., row_rows[ ]].  Column-major ordering means the other way around where the memory is arranged with each **column** being contiguous and **rows** speread out in memory.\n",
    "\n",
    "[1, 2, 3,\n",
    "\n",
    " 4, 5, 6,\n",
    " \n",
    " 7, 8, 9]\n",
    " \n",
    "If using row-major ordering: [1, 2, 3, 4, 5, 6, 7, 8, 9] <br/>\n",
    "If using column-major ordering: [1, 4, 7, 2, 5, 8, 3, 6, 9]\n",
    "\n",
    "In C, row-major ordering is the default.\n",
    "\n",
    "Languages that use row-major ordering: C, C++, Python, Mathematica <br/>\n",
    "Languages that use column-major ordering: FORTRAN, MATLAB, R, Julia\n",
    "\n",
    "**ii. Explain how you could force C to use the non-default array ordering if desired.**\n",
    "\n",
    "Change the code \"\\*(m->mat + (m->cols \\* row) + col) = v;\" to \"\\*(m->mat + (m->rows \\* col) + row) = v;\".\n",
    "\n",
    "**iii. Make sure that *test_matrix* in the *test/* folder compiles and runs correctly after you are finished implementing MATRIX.**"
   ]
  },
  {
   "cell_type": "code",
   "execution_count": null,
   "metadata": {
    "collapsed": true
   },
   "outputs": [],
   "source": [
    "~/cw-11-redyellow/test$ ./test_matrix\n",
    "Initial matrix:\n",
    "Matrix (rows: 3, cols: 6)\n",
    "0.000000        0.000000        0.000000        0.000000        0.000000        0.000000\n",
    "0.000000        0.000000        0.000000        0.000000        0.000000        0.000000\n",
    "0.000000        0.000000        0.000000        0.000000        0.000000        0.000000\n",
    "Modified matrix:\n",
    "Matrix (rows: 3, cols: 6)\n",
    "0.000000        0.000000        0.000000        0.000000        60.000000       0.000000\n",
    "0.000000        20.000000       0.000000        0.000000        0.000000        0.000000\n",
    "0.000000        0.000000        40.000000       0.000000        0.000000        80.000000\n",
    "Element a(2,2):\n",
    "40.000000\n",
    "Element a(0,4):\n",
    "60.000000\n",
    "Adding a to itself:\n",
    "Matrix (rows: 3, cols: 6)\n",
    "0.000000        0.000000        0.000000        0.000000        120.000000      0.000000\n",
    "0.000000        40.000000       0.000000        0.000000        0.000000        0.000000\n",
    "0.000000        0.000000        80.000000       0.000000        0.000000        160.000000\n",
    "~/cw-11-redyellow/test$ "
   ]
  }
 ],
 "metadata": {
  "kernelspec": {
   "display_name": "Python 2 (SageMath)",
   "language": "python",
   "name": "python2"
  },
  "language_info": {
   "codemirror_mode": {
    "name": "ipython",
    "version": 2
   },
   "file_extension": ".py",
   "mimetype": "text/x-python",
   "name": "python",
   "nbconvert_exporter": "python",
   "pygments_lexer": "ipython2",
   "version": "2.7.10"
  }
 },
 "nbformat": 4,
 "nbformat_minor": 0
}
