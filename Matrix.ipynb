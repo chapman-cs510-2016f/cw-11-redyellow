{
 "cells": [
  {
   "cell_type": "markdown",
   "metadata": {
    "collapsed": false
   },
   "source": [
    "**(i) how the MATRIX type is defined and how it works in detail.**\n",
    "\n",
    "MATRIX is defined as a struct in matrix.h file, which includes rows, which is MINDEX type that defined as unsigned int, cols, which is MINDEX, and pointer mat, which is MVALUE defined as long double. That means for a matrix, it has the number of rows and columns, and double long pointer to point the location of continuous memory.\n",
    "\n",
    "**Explain in particular the difference between \"row-major ordering\" and \"column-major ordering\" for multidimensional arrays, and which is the default in C.**\n",
    "\n",
    "row-major ordering means each row is continious, column-major ordering means each row is continious. For example, we have a matrix:\n",
    "\n",
    "[1, 2, 3,\n",
    "\n",
    " 4, 5, 6,\n",
    " \n",
    " 7, 8, 9]\n",
    " \n",
    "In row-major ordering: [1, 2, 3, 4, 5, 6, 7, 8, 9]\n",
    "In column-major ordering: [1, 4, 7, 2, 5, 8, 3, 6, 9]\n",
    "  \n",
    "For C, row-major ordering is default.\n"
   ]
  },
  {
   "cell_type": "markdown",
   "metadata": {},
   "source": [
    "**(ii)Explain how you could force C to use the non-default array ordering if desired.**\n",
    "\n",
    "change this code: \"*(m->mat + (m->cols * row) + col) = v;\" with \"*(m->mat + (m->rows * col) + row) = v;\"\n"
   ]
  },
  {
   "cell_type": "markdown",
   "metadata": {
    "collapsed": true
   },
   "source": [
    "**(iii)Make sure that test_matrix in the test/ folder compiles and runs correctly after you are finished implementing MATRIX.jjjjjjjjkkkkjjj\n",
    "\n",
    "\n",
    "jjkkk:jjkkk::q\n",
    "\n",
    "\n",
    "\n"
   ]
  }
 ],
 "metadata": {
  "kernelspec": {
   "display_name": "Python 2 (SageMath)",
   "language": "python",
   "name": "python2"
  },
  "language_info": {
   "codemirror_mode": {
    "name": "ipython",
    "version": 2
   },
   "file_extension": ".py",
   "mimetype": "text/x-python",
   "name": "python",
   "nbconvert_exporter": "python",
   "pygments_lexer": "ipython2",
   "version": "2.7.10"
  }
 },
 "nbformat": 4,
 "nbformat_minor": 0
}
